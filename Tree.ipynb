{
  "nbformat": 4,
  "nbformat_minor": 0,
  "metadata": {
    "colab": {
      "name": "Tree.ipynb",
      "provenance": [],
      "collapsed_sections": [],
      "authorship_tag": "ABX9TyMu1e1a7y8FM9BqSpHJb2en",
      "include_colab_link": true
    },
    "kernelspec": {
      "name": "python3",
      "display_name": "Python 3"
    }
  },
  "cells": [
    {
      "cell_type": "markdown",
      "metadata": {
        "id": "view-in-github",
        "colab_type": "text"
      },
      "source": [
        "<a href=\"https://colab.research.google.com/github/DanielDCM212/Command_Line/blob/master/Tree.ipynb\" target=\"_parent\"><img src=\"https://colab.research.google.com/assets/colab-badge.svg\" alt=\"Open In Colab\"/></a>"
      ]
    },
    {
      "cell_type": "code",
      "metadata": {
        "id": "ZuQyO396RED6",
        "colab_type": "code",
        "colab": {}
      },
      "source": [
        "import numpy as np"
      ],
      "execution_count": 0,
      "outputs": []
    },
    {
      "cell_type": "code",
      "metadata": {
        "id": "Y1cSD9oyTS7x",
        "colab_type": "code",
        "colab": {}
      },
      "source": [
        "class nodo:\n",
        "    \"\"\"\n",
        "    Clase Nodo\n",
        "    Guarda los datos que el nodo utilize\n",
        "    \"\"\"\n",
        "\n",
        "    def __init__(self,data,left = None,right = None, father=None):\n",
        "        self.father = father\n",
        "        self.data = data\n",
        "        self.left = left\n",
        "        self.right = right\n",
        "        \n",
        "    def __str__(self):\n",
        "        return \"%s\" %(self.data)\n",
        "\n"
      ],
      "execution_count": 0,
      "outputs": []
    },
    {
      "cell_type": "code",
      "metadata": {
        "id": "hsuh0wehTuNJ",
        "colab_type": "code",
        "colab": {}
      },
      "source": [
        "class aBinary:\n",
        "    def __init__(self):\n",
        "        self.root = None\n",
        "        \n",
        "    def AddNodo(self, Nodo):\n",
        "        if self.root == None:\n",
        "            self.root = Nodo\n",
        "        else:\n",
        "            aux = self.root\n",
        "            father = None\n",
        "            while aux != None:\n",
        "                padre = aux      \n",
        "                if int(Nodo.data) >= int(aux.data):\n",
        "                    aux = aux.right\n",
        "                else:\n",
        "                    aux = aux.left \n",
        "            \n",
        "            if int(Nodo.data) >= int(padre.data):\n",
        "                Nodo.father = padre\n",
        "                padre.right = Nodo\n",
        "            else:\n",
        "                Nodo.father = padre\n",
        "                padre.left = Nodo\n",
        "\n",
        "    def FindNodo(self, Find):\n",
        "        aux = self.root\n",
        "        #print(aux.data)\n",
        "        while aux != None and int(aux.data) != int(Find):\n",
        "          if aux.data > Find:\n",
        "              aux = aux.left \n",
        "          else:\n",
        "              aux = aux.right\n",
        "\n",
        "        if aux != None :\n",
        "          return aux\n",
        "        else:\n",
        "          return \"Not find\"\n",
        "    \n",
        "    def Delete(self, Nodo):\n",
        "        NodoAux = self.root\n",
        "        while (Nodo.data != NodoAux.data):\n",
        "            if Nodo.data > NodoAux.data :\n",
        "              NodoAux = NodoAux.right\n",
        "            else:\n",
        "              NodoAux = NodoAux.left\n",
        "\n",
        "        \n",
        "\n",
        "         \n",
        "\n",
        "\n",
        "    def Preorder(self, Nodo):\n",
        "        if Nodo!=None:\n",
        "            print(Nodo)\n",
        "            self.Preorder(Nodo.left)\n",
        "            self.Preorder(Nodo.right)\n",
        "            \n",
        "    def Inorder(self, Nodo):\n",
        "        if Nodo!=None:\n",
        "            self.Inorder(Nodo.left)\n",
        "            print(Nodo)\n",
        "            self.Inorder(Nodo.right)\n",
        "    \n",
        "    def Postorder(self, Nodo):\n",
        "        if Nodo!=None:\n",
        "            self.Postorder(Nodo.left)\n",
        "            self.Postorder(Nodo.right)\n",
        "            print(Nodo)\n",
        "    \n",
        "    def Min(self, Nodo):\n",
        "        while Nodo.left != None:\n",
        "          Nodo = Nodo.left\n",
        "        return Nodo\n",
        "        #if Nodo.left != None:\n",
        "        #  self.min(Nodo.left)\n",
        "        #print(Nodo)\n",
        "\n",
        "    def Max(self, Nodo):\n",
        "        while Nodo.right != None:\n",
        "          Nodo = Nodo.right\n",
        "        return Nodo\n",
        "    \n",
        "    def Successor(self, Nodo):\n",
        "\n",
        "      aux = self.FindNodo(Nodo)\n",
        "\n",
        "      if aux != 'Not find':\n",
        "\n",
        "          if (aux.right != None):\n",
        "            return self.Min(aux.right).data\n",
        "          \n",
        "          while aux.father != None and Nodo > aux.father.data:\n",
        "              #print(aux.data)\n",
        "              if aux.father.left != None: \n",
        "                  if aux.data == aux.father.left.data:\n",
        "                      return aux.father.data\n",
        "                  else:\n",
        "                      aux = aux.father      \n",
        "              else:\n",
        "                  aux = aux.father\n",
        "          \n",
        "          if aux.father != None:\n",
        "              return aux.father.data\n",
        "          else:\n",
        "              print(\"Nodo mas grande seleccionado\")\n",
        "              return aux.data\n",
        "      else:\n",
        "          return \"Not Find Node\"\n",
        "\n",
        "    def Predecessor(self, Nodo):\n",
        "\n",
        "      aux = self.FindNodo(Nodo)\n",
        "\n",
        "      if aux != 'Not find':\n",
        "\n",
        "          if (aux.left != None):\n",
        "            return self.Max(aux.left).data\n",
        "          \n",
        "          while aux.father != None:\n",
        "              #print(aux.data)\n",
        "              if aux.father.right != None: \n",
        "                  if aux.data == aux.father.right.data:\n",
        "                      return aux.father.data\n",
        "                  else:\n",
        "                      aux = aux.father      \n",
        "              else:\n",
        "                  aux = aux.father\n",
        "          \n",
        "          if aux.father != None:\n",
        "              return aux.father.data\n",
        "          else:\n",
        "              print(\"Nodo mas pequeño seleccionado\")\n",
        "              return aux.data\n",
        "      else:\n",
        "          return \"Not Find Node\"\n",
        "    \n",
        "    \"\"\"\n",
        "    def Successor(self, Nodo):\n",
        "        aux = self.FindNodo(Nodo)\n",
        "        #print(\"Nodo\", aux.data)\n",
        "        if aux!= \"Not find\":\n",
        "            while aux.father != None:\n",
        "              if aux.father.data <= Nodo:\n",
        "                  aux = aux.father\n",
        "              else:\n",
        "                return aux.father.data\n",
        "            if aux.right != None:\n",
        "                return aux.right\n",
        "            else:\n",
        "                return aux.data\n",
        "        else:\n",
        "          print(\"Not find nodo\")\n",
        "     \"\"\"    \n",
        "      \n",
        "            \n",
        "    def GetRoot(self):\n",
        "        return self.root"
      ],
      "execution_count": 0,
      "outputs": []
    },
    {
      "cell_type": "code",
      "metadata": {
        "id": "6wu9gqcfVou0",
        "colab_type": "code",
        "colab": {}
      },
      "source": [
        "Tree = aBinary()\n",
        "Nodos = np.random.randint(1,100,10)"
      ],
      "execution_count": 0,
      "outputs": []
    },
    {
      "cell_type": "code",
      "metadata": {
        "id": "sTvftrzLVwxJ",
        "colab_type": "code",
        "colab": {}
      },
      "source": [
        "for Nodo in Nodos:\n",
        "    #print(Nodo)\n",
        "    Tree.AddNodo(nodo(Nodo))"
      ],
      "execution_count": 0,
      "outputs": []
    },
    {
      "cell_type": "code",
      "metadata": {
        "id": "6C0YCG2gV5lP",
        "colab_type": "code",
        "colab": {
          "base_uri": "https://localhost:8080/",
          "height": 187
        },
        "outputId": "617045d1-53b9-4779-a2bb-34f901ab7145"
      },
      "source": [
        "Tree.Inorder(Tree.GetRoot())"
      ],
      "execution_count": 406,
      "outputs": [
        {
          "output_type": "stream",
          "text": [
            "14\n",
            "32\n",
            "46\n",
            "51\n",
            "54\n",
            "69\n",
            "75\n",
            "76\n",
            "82\n",
            "97\n"
          ],
          "name": "stdout"
        }
      ]
    },
    {
      "cell_type": "code",
      "metadata": {
        "id": "rUOA7j3DgO0h",
        "colab_type": "code",
        "colab": {
          "base_uri": "https://localhost:8080/",
          "height": 187
        },
        "outputId": "81d5e371-2c5c-47cf-b46f-cc7459be2e0e"
      },
      "source": [
        "Tree.Preorder(Tree.GetRoot())"
      ],
      "execution_count": 407,
      "outputs": [
        {
          "output_type": "stream",
          "text": [
            "97\n",
            "75\n",
            "51\n",
            "32\n",
            "14\n",
            "46\n",
            "54\n",
            "69\n",
            "76\n",
            "82\n"
          ],
          "name": "stdout"
        }
      ]
    },
    {
      "cell_type": "code",
      "metadata": {
        "id": "AjDNDBc9V9XV",
        "colab_type": "code",
        "colab": {
          "base_uri": "https://localhost:8080/",
          "height": 34
        },
        "outputId": "25a6e95f-b747-4c2d-a1b6-40b4e3cb6f5c"
      },
      "source": [
        "Tree.Min(Tree.GetRoot()).data"
      ],
      "execution_count": 416,
      "outputs": [
        {
          "output_type": "execute_result",
          "data": {
            "text/plain": [
              "14"
            ]
          },
          "metadata": {
            "tags": []
          },
          "execution_count": 416
        }
      ]
    },
    {
      "cell_type": "code",
      "metadata": {
        "id": "hIQq4z-YWINe",
        "colab_type": "code",
        "colab": {
          "base_uri": "https://localhost:8080/",
          "height": 34
        },
        "outputId": "7fe48e27-f65b-47be-a6d9-058214deee3b"
      },
      "source": [
        "Tree.Max(Tree.GetRoot()).data"
      ],
      "execution_count": 409,
      "outputs": [
        {
          "output_type": "execute_result",
          "data": {
            "text/plain": [
              "97"
            ]
          },
          "metadata": {
            "tags": []
          },
          "execution_count": 409
        }
      ]
    },
    {
      "cell_type": "code",
      "metadata": {
        "id": "iEHDd4XsXL2Q",
        "colab_type": "code",
        "colab": {
          "base_uri": "https://localhost:8080/",
          "height": 34
        },
        "outputId": "c5e8fc36-0760-48a3-ee3e-b95e5316f353"
      },
      "source": [
        "Tree.FindNodo(0)"
      ],
      "execution_count": 410,
      "outputs": [
        {
          "output_type": "execute_result",
          "data": {
            "text/plain": [
              "'Not find'"
            ]
          },
          "metadata": {
            "tags": []
          },
          "execution_count": 410
        }
      ]
    },
    {
      "cell_type": "code",
      "metadata": {
        "id": "fwpureQ5a58G",
        "colab_type": "code",
        "colab": {
          "base_uri": "https://localhost:8080/",
          "height": 34
        },
        "outputId": "8f29fabd-353b-48b9-d6b2-a86a5976be59"
      },
      "source": [
        "Tree.Successor(32)"
      ],
      "execution_count": 414,
      "outputs": [
        {
          "output_type": "execute_result",
          "data": {
            "text/plain": [
              "46"
            ]
          },
          "metadata": {
            "tags": []
          },
          "execution_count": 414
        }
      ]
    },
    {
      "cell_type": "code",
      "metadata": {
        "id": "o1V-szaYa62j",
        "colab_type": "code",
        "colab": {
          "base_uri": "https://localhost:8080/",
          "height": 34
        },
        "outputId": "9ba92197-ddbd-4b64-ecf3-232253bf3c5e"
      },
      "source": [
        "Tree.Predecessor(32)"
      ],
      "execution_count": 413,
      "outputs": [
        {
          "output_type": "execute_result",
          "data": {
            "text/plain": [
              "14"
            ]
          },
          "metadata": {
            "tags": []
          },
          "execution_count": 413
        }
      ]
    },
    {
      "cell_type": "code",
      "metadata": {
        "id": "4pgvDgftqQSf",
        "colab_type": "code",
        "colab": {}
      },
      "source": [
        ""
      ],
      "execution_count": 0,
      "outputs": []
    }
  ]
}